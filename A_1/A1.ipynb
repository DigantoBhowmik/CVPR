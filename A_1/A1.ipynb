{
 "cells": [
  {
   "cell_type": "markdown",
   "id": "966ad6e2-0315-4e25-840d-19bfea7e6ade",
   "metadata": {},
   "source": [
    "import numpy as np\n",
    "import matplotlib.pyplot as plt\n",
    "import tensorflow as tf\n",
    "%matplotlib inline"
   ]
  },
  {
   "cell_type": "code",
   "execution_count": 6,
   "id": "261bf1bc-158e-49f4-b33e-60635645b360",
   "metadata": {},
   "outputs": [],
   "source": [
    "import numpy as np\n",
    "import matplotlib.pyplot as plt\n",
    "import tensorflow as tf\n",
    "%matplotlib inline"
   ]
  },
  {
   "cell_type": "code",
   "execution_count": 7,
   "id": "ffffc368-698b-44a1-b6e7-e9bdc339364d",
   "metadata": {},
   "outputs": [
    {
     "name": "stdout",
     "output_type": "stream",
     "text": [
      "(50000, 32, 32, 3)\n"
     ]
    }
   ],
   "source": [
    "(X_train, Y_train), (X_test, Y_test) = tf.keras.datasets.cifar10.load_data()\n",
    "print(X_train.shape)"
   ]
  },
  {
   "cell_type": "code",
   "execution_count": 8,
   "id": "73fb49eb-9125-4c99-b143-5f406c194230",
   "metadata": {},
   "outputs": [
    {
     "name": "stdout",
     "output_type": "stream",
     "text": [
      "k:  1\n",
      "k:  2\n",
      "k:  3\n",
      "k:  4\n",
      "k:  5\n",
      "k:  6\n",
      "k:  7\n",
      "k:  8\n",
      "k:  9\n",
      "k:  10\n",
      "k:  11\n",
      "k:  12\n",
      "k:  13\n",
      "k:  14\n",
      "k:  15\n",
      "k:  16\n",
      "k:  17\n",
      "k:  18\n",
      "k:  19\n",
      "k:  20\n",
      "[[[[16, 15], [24, 17], [16, 11], [21, 19], [10, 13]], 1], [[[16, 10], [18, 20], [16, 12], [16, 16], [14, 13]], 2], [[[24, 10], [23, 15], [13, 15], [16, 11], [12, 15]], 3], [[[16, 14], [26, 24], [14, 14], [12, 20], [14, 17]], 4], [[[10, 15], [23, 20], [17, 15], [15, 19], [12, 18]], 5], [[[10, 13], [22, 16], [17, 16], [16, 15], [12, 16]], 6], [[[13, 15], [23, 17], [14, 15], [19, 15], [16, 19]], 7], [[[17, 16], [22, 16], [19, 16], [15, 17], [15, 21]], 8], [[[12, 12], [25, 17], [16, 17], [16, 16], [17, 20]], 9], [[[15, 12], [24, 19], [17, 17], [20, 19], [20, 20]], 10], [[[17, 10], [23, 16], [20, 19], [17, 22], [20, 21]], 11], [[[15, 12], [21, 17], [19, 19], [21, 22], [20, 24]], 12], [[[13, 13], [19, 18], [19, 17], [16, 17], [22, 23]], 13], [[[14, 13], [17, 21], [21, 19], [14, 17], [21, 23]], 14], [[[18, 11], [18, 23], [18, 17], [18, 18], [20, 20]], 15], [[[14, 11], [19, 24], [17, 16], [15, 15], [19, 19]], 16], [[[14, 16], [18, 22], [16, 17], [16, 15], [22, 21]], 17], [[[14, 18], [18, 21], [16, 15], [13, 13], [20, 25]], 18], [[[14, 14], [21, 17], [17, 16], [16, 15], [22, 21]], 19], [[[11, 14], [22, 17], [16, 16], [18, 16], [23, 21]], 20]]\n"
     ]
    }
   ],
   "source": [
    "accuracy = []\n",
    "\n",
    "for k in range(1, 21):\n",
    "  print(\"k: \", k)\n",
    "  acc = []\n",
    "  for f in range(5):\n",
    "    # divide data into folds\n",
    "    validationX, validationY = X_train[f*10000:(f+1)*10000], Y_train[f*10000:(f+1)*10000]\n",
    "    trainX = np.concatenate((X_train[:f*10000], X_train[(f+1)*10000:]), axis = 0)\n",
    "    trainY = np.concatenate((Y_train[:f*10000], Y_train[(f+1)*10000:]), axis = 0)\n",
    "    cm = ce = 0         # c for correct, m for manhattan, e for euclidean\n",
    "\n",
    "    for i in range(len(validationX)):\n",
    "      man_distance = []\n",
    "      euc_distance = []\n",
    "\n",
    "      for j in range(len(trainX)):\n",
    "        \n",
    "        # manhattan - calculating distance between two images\n",
    "        l1 = np.sum(np.absolute(np.subtract(validationX[i], trainX[j])))\n",
    "\n",
    "        # euclidean - calculation distance between two images\n",
    "        l2 = np.sqrt(np.sum((validationX[i] - trainX[j])**2))\n",
    "\n",
    "        man_distance.append([l1, trainY[j][0]])\n",
    "        euc_distance.append([l2, trainY[j][0]])\n",
    "        \n",
    "        if j == 400:\n",
    "            break\n",
    "\n",
    "      man_distance = np.array(man_distance)\n",
    "      man_distance = man_distance[man_distance[:, 0].argsort()]\n",
    "      euc_distance = np.array(euc_distance)\n",
    "      euc_distance = euc_distance[euc_distance[:, 0].argsort()]\n",
    "      \n",
    "      # for manhattan distance\n",
    "      values = man_distance[:k, 1]\n",
    "\n",
    "      # print(values)\n",
    "      most_frequent_value = np.argmax(np.bincount(values.astype('int32')))\n",
    "\n",
    "      # print(most_frequent_value)\n",
    "      if most_frequent_value == validationY[i]:\n",
    "        cm += 1\n",
    "        \n",
    "      # for euclidean distance\n",
    "      values = euc_distance[:k, 1]\n",
    "      most_frequent_value = np.argmax(np.bincount(values.astype('int32')))\n",
    "      if most_frequent_value == validationY[i]:\n",
    "        ce += 1\n",
    "\n",
    "      # print(man_distance[0][0], man_distance[-1][0])\n",
    "      # print(euc_distance[0], euc_distance[-1])\n",
    "\n",
    "      if i == 100:\n",
    "        break\n",
    "\n",
    "    acc.append([cm, ce])\n",
    "  accuracy.append([acc, k])\n",
    "\n",
    "print(accuracy)"
   ]
  },
  {
   "cell_type": "code",
   "execution_count": 5,
   "id": "7f1327e2-923b-473f-b844-52dc65be2c72",
   "metadata": {},
   "outputs": [
    {
     "name": "stderr",
     "output_type": "stream",
     "text": [
      "/Users/diganto/opt/anaconda3/envs/tf/lib/python3.7/site-packages/ipykernel_launcher.py:3: VisibleDeprecationWarning: Creating an ndarray from ragged nested sequences (which is a list-or-tuple of lists-or-tuples-or ndarrays with different lengths or shapes) is deprecated. If you meant to do this, you must specify 'dtype=object' when creating the ndarray.\n",
      "  This is separate from the ipykernel package so we can avoid doing imports until\n"
     ]
    },
    {
     "data": {
      "image/png": "[encoded data removed]",
      "text/plain": [
       "<Figure size 1440x360 with 1 Axes>"
      ]
     },
     "metadata": {
      "needs_background": "light"
     },
     "output_type": "display_data"
    }
   ],
   "source": [
    "avg1 = []\n",
    "avg2 = []\n",
    "k = np.array(accuracy)[:,1]\n",
    "\n",
    "plt.figure(figsize=(20,5))\n",
    "\n",
    "\n",
    "plt.subplot(1,2,2)\n",
    "plt.title('Cross-Validation on K')\n",
    "for i in range(len(accuracy)):\n",
    "  a = np.full((5), i+1, dtype=int)\n",
    "  l2 = np.array(accuracy[i][0])[:,1]\n",
    "  avg2.append(np.average(l2))\n",
    "  plt.plot(a, l2, 'o-')\n",
    "\n",
    "plt.plot(k, avg2, 'o-')\n",
    "plt.xlabel('k')\n",
    "plt.ylabel('cross-validation accuracy')\n",
    "\n",
    "plt.show()"
   ]
  },
  {
   "cell_type": "code",
   "execution_count": null,
   "id": "77e415f3-bb4b-4404-ba5e-a4a36b554d03",
   "metadata": {},
   "outputs": [],
   "source": []
  }
 ],
 "metadata": {
  "kernelspec": {
   "display_name": "Python 3 (ipykernel)",
   "language": "python",
   "name": "python3"
  },
  "language_info": {
   "codemirror_mode": {
    "name": "ipython",
    "version": 3
   },
   "file_extension": ".py",
   "mimetype": "text/x-python",
   "name": "python",
   "nbconvert_exporter": "python",
   "pygments_lexer": "ipython3",
   "version": "3.7.11"
  }
 },
 "nbformat": 4,
 "nbformat_minor": 5
}
